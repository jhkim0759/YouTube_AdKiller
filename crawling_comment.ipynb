{
 "cells": [
  {
   "cell_type": "code",
   "execution_count": 2,
   "metadata": {},
   "outputs": [],
   "source": [
    "import bs4\n",
    "import time\n",
    "import os\n",
    "import pandas as pd\n",
    "import numpy as np\n",
    "import matplotlib.pyplot as plt\n",
    "from selenium.webdriver.common.keys import Keys\n",
    "from selenium import webdriver\n",
    "import re\n",
    "import requests \n"
   ]
  },
  {
   "cell_type": "code",
   "execution_count": 1,
   "metadata": {},
   "outputs": [
    {
     "name": "stdout",
     "output_type": "stream",
     "text": [
      "Please visit this URL to authorize this application: https://accounts.google.com/o/oauth2/auth?response_type=code&client_id=29898966518-ra5akcd4ltrohgh0igfsi5dkmc87g4a7.apps.googleusercontent.com&redirect_uri=urn%3Aietf%3Awg%3Aoauth%3A2.0%3Aoob&scope=https%3A%2F%2Fwww.googleapis.com%2Fauth%2Fyoutube.readonly+https%3A%2F%2Fwww.googleapis.com%2Fauth%2Fyoutube.force-ssl&state=KKI28shoK9JkfOBZExNT7l9CK7d0rR&prompt=consent&access_type=offline\n",
      "Enter the authorization code: 4/1AY0e-g7b6KzIyYGmC3LzwVCx8GEKzYc0nLxCyicuIifQIvtxORhfjIeJ4oc\n"
     ]
    }
   ],
   "source": [
    "import googleapiclient.discovery\n",
    "import google_auth_oauthlib.flow\n",
    "from keras.models import load_model\n",
    "import os \n",
    "os.chdir('..\\data')\n",
    "API_SERVICE_NAME = 'youtube'\n",
    "API_VERSION = 'v3'\n",
    "CLIENT_SECRET_FILE = 'client_secret2.json'\n",
    "SCOPES = ['https://www.googleapis.com/auth/youtube.readonly', 'https://www.googleapis.com/auth/youtube.force-ssl']\n",
    "\n",
    "# API 클라이언트 생성 및 인증하여 Credential 객체 얻기\n",
    "flow = google_auth_oauthlib.flow.InstalledAppFlow.from_client_secrets_file(CLIENT_SECRET_FILE, SCOPES)\n",
    "credentials = flow.run_console()\n",
    "youtube = googleapiclient.discovery.build(API_SERVICE_NAME, API_VERSION, credentials=credentials)"
   ]
  },
  {
   "cell_type": "code",
   "execution_count": 21,
   "metadata": {},
   "outputs": [],
   "source": [
    "link = 'https://www.youtube.com/results?search_query='\n",
    "my_driver = webdriver.Chrome('chromedriver.exe') \n",
    "my_driver.get(link+\"검색어 입력\")\n",
    "my_html = my_driver.page_source  \n",
    "my_driver.close()"
   ]
  },
  {
   "cell_type": "code",
   "execution_count": 22,
   "metadata": {},
   "outputs": [],
   "source": [
    "my_soup = bs4.BeautifulSoup(my_html, 'html.parser')    \n",
    "\n",
    "video_id = my_soup.select(\"div > h3 > a\")"
   ]
  },
  {
   "cell_type": "code",
   "execution_count": 23,
   "metadata": {},
   "outputs": [],
   "source": [
    "r = re.compile(\"/watch\\?v\\=\")\n",
    "r1= re.compile(\"\\W\")"
   ]
  },
  {
   "cell_type": "code",
   "execution_count": 24,
   "metadata": {},
   "outputs": [],
   "source": [
    "video_id_list = []\n",
    "for v in video_id[:2]:\n",
    "    video_id_list.append([r.sub(\"\",str(v[\"href\"])),r1.sub(\"\",v.text)])"
   ]
  },
  {
   "cell_type": "code",
   "execution_count": 25,
   "metadata": {},
   "outputs": [
    {
     "data": {
      "text/plain": [
       "[['x53fuemtmsQ', '14화몰아보기섹시하게일하고애틋하게사랑하라검블유검색어를입력하세요WWWSearchWWW'],\n",
       " ['Tf89th_UWrY', 'tvN유튜브멤버십OPEN검색어를입력하세요WWW1화10분미리보기']]"
      ]
     },
     "execution_count": 25,
     "metadata": {},
     "output_type": "execute_result"
    }
   ],
   "source": [
    "video_id_list"
   ]
  },
  {
   "cell_type": "code",
   "execution_count": 27,
   "metadata": {},
   "outputs": [],
   "source": [
    "import pandas\n",
    "from googleapiclient.discovery import build\n",
    " \n",
    " \n",
    "\n",
    "for i,(v_id,v_name) in enumerate(video_id_list):\n",
    "    try:\n",
    "        video_id = v_id\n",
    "        \n",
    "        comments = list()\n",
    "#         api_obj = build('youtube', 'v3', developerKey=api_key)\n",
    "        response = youtube.commentThreads().list(part='snippet,replies', videoId=video_id, maxResults=100).execute()\n",
    "        \n",
    "        while response:\n",
    "            for item in response['items']:\n",
    "                comment = item['snippet']['topLevelComment']['snippet']\n",
    "                comments.append([comment['textDisplay'], comment['authorDisplayName'], comment['publishedAt'], comment['likeCount']])\n",
    "                \n",
    "                if item['snippet']['totalReplyCount'] > 0:\n",
    "                    for reply_item in item['replies']['comments']:\n",
    "                        reply = reply_item['snippet']\n",
    "                        comments.append([reply['textDisplay'], reply['authorDisplayName'], reply['publishedAt'], reply['likeCount']])\n",
    "            if 'nextPageToken' in response:\n",
    "                response = youtube.commentThreads().list(part='snippet,replies', videoId=video_id, pageToken=response['nextPageToken'], maxResults=100).execute()\n",
    "            \n",
    "            \n",
    "            else:\n",
    "                break\n",
    "    except:\n",
    "        print(\"오류\")\n",
    "        continue\n",
    " \n",
    "    df = pandas.DataFrame(comments)\n",
    "    df.to_excel(v_name+\".xlsx\", header=['comment', 'author', 'date', 'num_likes'], index=None)"
   ]
  },
  {
   "cell_type": "code",
   "execution_count": 33,
   "metadata": {},
   "outputs": [],
   "source": [
    "response = youtube.commentThreads().list(part='snippet,replies', videoId='x53fuemtmsQ', maxResults=500).execute()"
   ]
  },
  {
   "cell_type": "code",
   "execution_count": 35,
   "metadata": {},
   "outputs": [
    {
     "data": {
      "text/plain": [
       "100"
      ]
     },
     "execution_count": 35,
     "metadata": {},
     "output_type": "execute_result"
    }
   ],
   "source": []
  },
  {
   "cell_type": "code",
   "execution_count": null,
   "metadata": {},
   "outputs": [],
   "source": []
  }
 ],
 "metadata": {
  "kernelspec": {
   "display_name": "Python 3",
   "language": "python",
   "name": "python3"
  },
  "language_info": {
   "codemirror_mode": {
    "name": "ipython",
    "version": 3
   },
   "file_extension": ".py",
   "mimetype": "text/x-python",
   "name": "python",
   "nbconvert_exporter": "python",
   "pygments_lexer": "ipython3",
   "version": "3.8.5"
  }
 },
 "nbformat": 4,
 "nbformat_minor": 4
}

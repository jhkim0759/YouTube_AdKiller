{
 "cells": [
  {
   "cell_type": "code",
   "execution_count": 1,
   "metadata": {},
   "outputs": [],
   "source": [
    "import googleapiclient.discovery\n",
    "import google_auth_oauthlib.flow\n",
    "from keras.models import load_model\n",
    "import os \n",
    "os.chdir('..\\data')\n",
    "loaded_model = load_model('best_model.h5')"
   ]
  },
  {
   "cell_type": "code",
   "execution_count": 2,
   "metadata": {},
   "outputs": [],
   "source": [
    "API_SERVICE_NAME = 'youtube'\n",
    "API_VERSION = 'v3'\n",
    "CLIENT_SECRET_FILE = 'client_secret2.json'"
   ]
  },
  {
   "cell_type": "code",
   "execution_count": 3,
   "metadata": {},
   "outputs": [
    {
     "name": "stdout",
     "output_type": "stream",
     "text": [
      "Please visit this URL to authorize this application: https://accounts.google.com/o/oauth2/auth?response_type=code&client_id=29898966518-ra5akcd4ltrohgh0igfsi5dkmc87g4a7.apps.googleusercontent.com&redirect_uri=urn%3Aietf%3Awg%3Aoauth%3A2.0%3Aoob&scope=https%3A%2F%2Fwww.googleapis.com%2Fauth%2Fyoutube.readonly+https%3A%2F%2Fwww.googleapis.com%2Fauth%2Fyoutube.force-ssl&state=5Z878c1lHbv5bswuIof9Nu2TqoUFrd&prompt=consent&access_type=offline\n",
      "Enter the authorization code: 4/1AY0e-g5sIbm0qHwTPV4srxE5VJ6zJfDZD4u0LchHSHod9GPyh1qcxPSkMnY\n"
     ]
    }
   ],
   "source": [
    "SCOPES = ['https://www.googleapis.com/auth/youtube.readonly', 'https://www.googleapis.com/auth/youtube.force-ssl']\n",
    "\n",
    "# API 클라이언트 생성 및 인증하여 Credential 객체 얻기\n",
    "flow = google_auth_oauthlib.flow.InstalledAppFlow.from_client_secrets_file(CLIENT_SECRET_FILE, SCOPES)\n",
    "credentials = flow.run_console()\n",
    "youtube = googleapiclient.discovery.build(API_SERVICE_NAME, API_VERSION, credentials=credentials)"
   ]
  },
  {
   "cell_type": "code",
   "execution_count": 4,
   "metadata": {},
   "outputs": [
    {
     "name": "stdout",
     "output_type": "stream",
     "text": [
      "업로드한 영상의 Playlist ID: UU-UsPf2NsLI5eNa_gtblmjw\n"
     ]
    }
   ],
   "source": [
    "#인증된 사용자 채널의 기본 정보 가져오기\n",
    "channels_response = youtube.channels().list(\n",
    "    mine=True,\n",
    "    part='contentDetails'\n",
    ").execute()\n",
    "\n",
    "channel = channels_response['items'][0] # 첫 번째 채널 선택\n",
    "uploads_playlist_id = channel['contentDetails']['relatedPlaylists']['uploads'] # 업로드 영상 플레이 리스트 ID 추출\n",
    "\n",
    "print('업로드한 영상의 Playlist ID:', uploads_playlist_id)"
   ]
  },
  {
   "cell_type": "code",
   "execution_count": 11,
   "metadata": {},
   "outputs": [],
   "source": [
    "channels_response = youtube.channels().list(\n",
    "    mine=True,\n",
    "    part='contentDetails'\n",
    ")"
   ]
  },
  {
   "cell_type": "code",
   "execution_count": 15,
   "metadata": {},
   "outputs": [],
   "source": [
    "# channels_response.execute()"
   ]
  },
  {
   "cell_type": "code",
   "execution_count": 5,
   "metadata": {},
   "outputs": [
    {
     "name": "stdout",
     "output_type": "stream",
     "text": [
      "18개의 동영상 정보를 불러왔습니다.\n"
     ]
    }
   ],
   "source": [
    "# 인증된 사용자 채널의 모든 비디오 정보 가져오기\n",
    "playlistitems_list_request = youtube.playlistItems().list(\n",
    "    playlistId=uploads_playlist_id,\n",
    "    part='snippet',\n",
    "    maxResults=50\n",
    ")\n",
    "\n",
    "cnt = 0\n",
    "last = 20 # 최근 몇 개까지의 동영상을 확인할지 설정\n",
    "video_list = []\n",
    "\n",
    "# 해당 플레이 리스트의 모든 동영상을 하나씩 확인하며\n",
    "while playlistitems_list_request:\n",
    "    playlistitems_list_response = playlistitems_list_request.execute()\n",
    "\n",
    "    # 각 비디오(video)에 대한 정보 출력\n",
    "    for playlist_item in playlistitems_list_response['items']:\n",
    "        video_id = playlist_item['snippet']['resourceId']['videoId']\n",
    "        title = playlist_item['snippet']['title']\n",
    "        video_list.append((video_id, title))\n",
    "        cnt += 1\n",
    "        if cnt >= last:\n",
    "            break\n",
    "\n",
    "    if cnt >= last:\n",
    "        break\n",
    "    playlistitems_list_request = youtube.playlistItems().list_next(playlistitems_list_request, playlistitems_list_response)\n",
    "\n",
    "print(f'{cnt}개의 동영상 정보를 불러왔습니다.')"
   ]
  },
  {
   "cell_type": "code",
   "execution_count": 6,
   "metadata": {},
   "outputs": [
    {
     "name": "stdout",
     "output_type": "stream",
     "text": [
      "Video ID: 4uBPe4u3k20 / 제목: 오늘도 풀 플레티넘 영상(먹이반응)\n",
      "Video ID: 0aTVg1xihXY / 제목: 고정구피 풀 플레티넘 새어항 적응기\n",
      "Video ID: I_EzJkM2FBI / 제목: 새로운 구피가족 알비노 풀 플레티넘!!\n",
      "Video ID: -14ElrYxi2M / 제목: 랑이네 새로운 가족 1일차\n",
      "Video ID: thSzZFdJf7A / 제목: 구피 입술 영상😘\n",
      "Video ID: G_4Qvuxf1qs / 제목: 구피가족/ 새식구/ 우리 가족을 소개합니다/ 랑이아빠\n",
      "Video ID: tcyxWaKDmJY / 제목: 2020년 10월 19일\n",
      "Video ID: -GircQ4nbks / 제목: 2020년 10월 19일\n",
      "Video ID: AOvBJlPGcU0 / 제목: 2020년 10월 19일\n",
      "Video ID: gZpEwSw1z6Q / 제목: 2020년 10월 19일\n",
      "Video ID: _BAyobrrFJg / 제목: 2020년 10월 19일\n",
      "Video ID: ql3-Z5Imk-0 / 제목: 2020년 10월 19일\n",
      "Video ID: zdHvTAPQ7pM / 제목: 2020년 10월 19일\n",
      "Video ID: cv24KPP9NQs / 제목: 2020년 10월 19일\n",
      "Video ID: T0A8r9UBpM4 / 제목: 2020년 10월 19일\n",
      "Video ID: Rzu-fym-8FQ / 제목: 2020년 10월 19일\n",
      "Video ID: iW8jeKG1_3E / 제목: 2020년 10월 19일\n",
      "Video ID: Z6JHiTUcxlI / 제목: 2020년 10월 19일\n"
     ]
    }
   ],
   "source": [
    "for (video_id, title) in video_list:\n",
    "    print(f'Video ID: {video_id} / 제목: {title}')"
   ]
  },
  {
   "cell_type": "code",
   "execution_count": 7,
   "metadata": {},
   "outputs": [],
   "source": [
    "# commentThreads.list() API를 호출하여 특정 비디오의 댓글 스레드(thread)를 불러오기\n",
    "def get_comment_threads(youtube, video_id):\n",
    "    results = youtube.commentThreads().list(\n",
    "        part='snippet',\n",
    "        videoId=video_id,\n",
    "        textFormat='plainText',\n",
    "        maxResults=100, # 최근 100개까지의 댓글 확인\n",
    "    ).execute()\n",
    "\n",
    "    comment_list = []\n",
    "    for item in results['items']:\n",
    "        comment_id = item['id']\n",
    "        comment = item['snippet']['topLevelComment']\n",
    "        author = comment['snippet']['authorDisplayName']\n",
    "        publishedAt = comment['snippet']['publishedAt']\n",
    "        text = comment['snippet']['textDisplay']\n",
    "        comment_list.append((comment_id, author, publishedAt, text))\n",
    "\n",
    "    return comment_list"
   ]
  },
  {
   "cell_type": "code",
   "execution_count": 8,
   "metadata": {},
   "outputs": [],
   "source": [
    "from tensorflow.keras.preprocessing.text import Tokenizer\n",
    "from soynlp.normalizer import *\n",
    "from konlpy.tag import Okt\n",
    "from tensorflow.keras.preprocessing.sequence import pad_sequences\n",
    "import pandas as pd\n",
    "import numpy as np\n",
    "\n",
    "file_name = \"comment.xlsx\"\n",
    "comment = pd.read_excel(file_name)\n",
    "ad =  pd.read_excel(\"clean_ad.xlsx\")\n",
    "\n",
    "\n",
    "comment = np.array(comment[\"comment\"])\n",
    "advertise = np.array(ad[\"comment\"])\n",
    "com_len = len(comment)\n",
    "ad_len = len(advertise)\n",
    "y_data = np.array([0]*com_len+[1]*ad_len)\n",
    "comments = np.concatenate([comment,advertise])\n",
    "df = pd.DataFrame(comments, columns=[\"comment\"])\n",
    "vocab_size = 2000\n",
    "\n",
    "# 불용어 정의\n",
    "df['comment'] = df['comment'].str.replace(\".\",\"\")                         # .이나 _먼저 공백으로\n",
    "df['comment'] = df['comment'].str.replace(\"_\", \"\")\n",
    "# df['comment'] = df['comment'].str.replace(\"[^가-힣ㅏ-ㅣㄱ-ㅎ]\",\" \")      # 단모음까지 남기기\n",
    "df['comment'] = df['comment'].str.replace(\"\\W\",\" \")                    # 특수문자 제거.\n",
    "df['comment'] = df['comment'].str.replace(\"체널|쳬널|챼널|채녈|체녈|쳬녈|챼녈\", \"채널\") # 채널 단어 정규화\n",
    "stopwords = ['의','가','이','은','들','는','좀','잘','걍','과','도','를','으로','자','에','와','한','하다','데',\"게\",\"꽤\", \"면\", \"로\"]\n",
    "\n",
    "\n",
    "my_okt = Okt()\n",
    "X_data = []\n",
    "word2index={}  \n",
    "bow=[]  \n",
    "for a_sent in df['comment']:\n",
    "#     print(a_sent)\n",
    "    a_sent = emoticon_normalize(a_sent, num_repeats=2)\n",
    "    a_sent = repeat_normalize(a_sent, num_repeats=2)\n",
    "    a_sent_tokenized = my_okt.morphs(a_sent, stem=True)                    # 어간추출 적용 토큰화.\n",
    "    a_sent_tokenized = [a_word for a_word in a_sent_tokenized if not a_word in stopwords] # 불용어 제거.\n",
    "    \n",
    "#     a_sent_tokenized = my_okt.nouns(a_sent)                               # 명사만.\n",
    "    \n",
    "    X_data.append(a_sent_tokenized)\n",
    "my_tokenizer = Tokenizer(num_words= vocab_size)\n",
    "my_tokenizer.fit_on_texts(X_data) \n",
    "\n",
    "max_len = 40\n",
    "\n",
    "def ad_predict(a_sentence):\n",
    "    a_sentence = emoticon_normalize(a_sentence, num_repeats=2)\n",
    "    a_sentence = repeat_normalize(a_sentence, num_repeats=2)\n",
    "    a_sentence = my_okt.morphs(a_sentence, stem=True) # 토큰화\n",
    "    a_sentence = [a_word for a_word in a_sentence if not a_word in stopwords] # 불용어 처리.\n",
    "    a_sentence_encoded = my_tokenizer.texts_to_sequences([a_sentence]) # 정수 인코딩.\n",
    "    X_new = pad_sequences(a_sentence_encoded, maxlen = max_len)     # Padding.\n",
    "    \n",
    "    \n",
    "    a_score = float(loaded_model.predict(X_new))                      # 예측.\n",
    "#     a_score = float(my_model.predict(X_new))\n",
    "    \n",
    "    if a_score>0.85 :\n",
    "        return True\n",
    "\n",
    "    return False"
   ]
  },
  {
   "cell_type": "code",
   "execution_count": 22,
   "metadata": {},
   "outputs": [
    {
     "name": "stdout",
     "output_type": "stream",
     "text": [
      "UgwEPrLGAO85udvjsbh4AaABAg 전혜정 2021-02-24T07:45:18Z 잘보고가요~ 이름은 왜 랑이인가요?\n",
      "UgzEdO8sUcPgA4UHzHp4AaABAg 전혜정 2021-02-24T07:41:05Z 어머 랑이네 가족이 많네요 몇명인가요\n",
      "UgzvrXg2G1vbLqVqWCl4AaABAg 전혜정 2021-02-24T07:38:52Z 아니 님들 마카롱티비가 뭐길래 난리에요 ?\n",
      "UgykjyTQpGWk9LQZx_l4AaABAg 이선구 2021-02-24T07:33:53Z 영상 진짜 재밌네요. 구독하고 갑니다~\n",
      "Ugz8iy3G6uVSi24UhO14AaABAg 이선구 2021-02-24T07:33:30Z 제 체널 들어오시면 십.만원 드립니다\n",
      "UgzZqLlXyHreiQx8tDt4AaABAg 제로 2021-02-17T00:23:00Z 테스트 댓글중..\n",
      "Ugxo8-4zwKlj_lwSoaR4AaABAg 전혜정 2021-02-17T00:22:38Z 제 체널로 놀러오세요\n",
      "Ugwn2fU_G3nHUwOTLTN4AaABAg 제로 2021-02-17T00:21:58Z 사다리무료프젝 카톢 NANO5\n",
      "Ugx1aAKo_g2bnghKuAB4AaABAg 이선구 2021-02-17T00:21:44Z 랑이의 탄생을 축하드립니다!\n",
      "UgxDaYCw7Nm54UKHeQF4AaABAg 제로 2021-02-17T00:21:13Z 올챙이들 너무 커여워요~\n",
      "Ugxt7_NcVm18l6-3OgZ4AaABAg 랑이아빠 2021-02-16T14:16:49Z 실험용 댓글\n"
     ]
    }
   ],
   "source": [
    "video_id = '-14ElrYxi2M' # 비디오 ID\n",
    "comment_list = get_comment_threads(youtube, video_id)\n",
    "comment_ids = []\n",
    "for (comment_id, author, publishedAt, text) in comment_list:\n",
    "    print(comment_id, author, publishedAt, text)\n",
    "    if ad_predict(text):\n",
    "        comment_ids.append([comment_id,text])\n"
   ]
  },
  {
   "cell_type": "code",
   "execution_count": 21,
   "metadata": {},
   "outputs": [
    {
     "name": "stdout",
     "output_type": "stream",
     "text": [
      "4개의 댓글을 삭제했습니다.\n"
     ]
    }
   ],
   "source": [
    "banned = True # 댓글 작성자 차단 여부\n",
    "\n",
    "# 삭제 수행 (삭제 이후에는 더 이상 API 상에서도 해당 댓글이 보이지 않음)\n",
    "request = youtube.comments().setModerationStatus(\n",
    "    id=[x[0] for x in comment_ids],\n",
    "    moderationStatus='rejected',\n",
    "    banAuthor=banned\n",
    ")\n",
    "request.execute()\n",
    "\n",
    "print(f'{len(comment_ids)}개의 댓글을 삭제했습니다.')"
   ]
  },
  {
   "cell_type": "code",
   "execution_count": 19,
   "metadata": {},
   "outputs": [
    {
     "data": {
      "text/plain": [
       "[['UgxdYQpmhh_p8g2QJJZ4AaABAg',\n",
       "  '제 체.널 오셔서 10먄.원 이상 벌어가셔요 진짜 있으니 해보고 속는셈 치고 한번 들러주세요 모두 행복하세용^^!ㅎ🤩🤩🤩'],\n",
       " ['UgxcdnWUb3T3leODfLZ4AaABAg', '내 쳬_널에 틱톡여신 방송★사고 난거 올려뒀어용 놀러오세용♥♥'],\n",
       " ['UgxWoTNXZ8Xl7eEg7zd4AaABAg', '마카롱티비 뭔데 여기저기 다 보이냐? 나도 다운받아봐야지'],\n",
       " ['Ugwh6Qfa7EaED1YkMLl4AaABAg', '마카롱티비 검색해봤는데 엄청나던데요? 혹시 안 보신분들 한번 보고 자요']]"
      ]
     },
     "execution_count": 19,
     "metadata": {},
     "output_type": "execute_result"
    }
   ],
   "source": [
    "comment_ids"
   ]
  },
  {
   "cell_type": "code",
   "execution_count": 16,
   "metadata": {},
   "outputs": [
    {
     "data": {
      "text/plain": [
       "False"
      ]
     },
     "execution_count": 16,
     "metadata": {},
     "output_type": "execute_result"
    }
   ],
   "source": [
    "ad_predict(\"사다리무료프젝 카톢 NANO5\")"
   ]
  },
  {
   "cell_type": "code",
   "execution_count": 23,
   "metadata": {},
   "outputs": [
    {
     "ename": "UnknownError",
     "evalue": "   Fail to find the dnn implementation.\n\t [[{{node CudnnRNN}}]]\n\t [[sequential/lstm/PartitionedCall]] [Op:__inference_predict_function_4420]\n\nFunction call stack:\npredict_function -> predict_function -> predict_function\n",
     "output_type": "error",
     "traceback": [
      "\u001b[1;31m---------------------------------------------------------------------------\u001b[0m",
      "\u001b[1;31mUnknownError\u001b[0m                              Traceback (most recent call last)",
      "\u001b[1;32m<ipython-input-23-40e41fc4f58a>\u001b[0m in \u001b[0;36m<module>\u001b[1;34m\u001b[0m\n\u001b[1;32m----> 1\u001b[1;33m \u001b[0mloaded_model\u001b[0m\u001b[1;33m.\u001b[0m\u001b[0mpredict\u001b[0m\u001b[1;33m(\u001b[0m\u001b[1;33m[\u001b[0m\u001b[1;36m2\u001b[0m\u001b[1;33m,\u001b[0m\u001b[1;36m23\u001b[0m\u001b[1;33m,\u001b[0m\u001b[1;36m231\u001b[0m\u001b[1;33m]\u001b[0m\u001b[1;33m)\u001b[0m\u001b[1;33m\u001b[0m\u001b[1;33m\u001b[0m\u001b[0m\n\u001b[0m",
      "\u001b[1;32mC:\\anaconda\\lib\\site-packages\\tensorflow\\python\\keras\\engine\\training.py\u001b[0m in \u001b[0;36m_method_wrapper\u001b[1;34m(self, *args, **kwargs)\u001b[0m\n\u001b[0;32m    128\u001b[0m       raise ValueError('{} is not supported in multi-worker mode.'.format(\n\u001b[0;32m    129\u001b[0m           method.__name__))\n\u001b[1;32m--> 130\u001b[1;33m     \u001b[1;32mreturn\u001b[0m \u001b[0mmethod\u001b[0m\u001b[1;33m(\u001b[0m\u001b[0mself\u001b[0m\u001b[1;33m,\u001b[0m \u001b[1;33m*\u001b[0m\u001b[0margs\u001b[0m\u001b[1;33m,\u001b[0m \u001b[1;33m**\u001b[0m\u001b[0mkwargs\u001b[0m\u001b[1;33m)\u001b[0m\u001b[1;33m\u001b[0m\u001b[1;33m\u001b[0m\u001b[0m\n\u001b[0m\u001b[0;32m    131\u001b[0m \u001b[1;33m\u001b[0m\u001b[0m\n\u001b[0;32m    132\u001b[0m   return tf_decorator.make_decorator(\n",
      "\u001b[1;32mC:\\anaconda\\lib\\site-packages\\tensorflow\\python\\keras\\engine\\training.py\u001b[0m in \u001b[0;36mpredict\u001b[1;34m(self, x, batch_size, verbose, steps, callbacks, max_queue_size, workers, use_multiprocessing)\u001b[0m\n\u001b[0;32m   1597\u001b[0m           \u001b[1;32mfor\u001b[0m \u001b[0mstep\u001b[0m \u001b[1;32min\u001b[0m \u001b[0mdata_handler\u001b[0m\u001b[1;33m.\u001b[0m\u001b[0msteps\u001b[0m\u001b[1;33m(\u001b[0m\u001b[1;33m)\u001b[0m\u001b[1;33m:\u001b[0m\u001b[1;33m\u001b[0m\u001b[1;33m\u001b[0m\u001b[0m\n\u001b[0;32m   1598\u001b[0m             \u001b[0mcallbacks\u001b[0m\u001b[1;33m.\u001b[0m\u001b[0mon_predict_batch_begin\u001b[0m\u001b[1;33m(\u001b[0m\u001b[0mstep\u001b[0m\u001b[1;33m)\u001b[0m\u001b[1;33m\u001b[0m\u001b[1;33m\u001b[0m\u001b[0m\n\u001b[1;32m-> 1599\u001b[1;33m             \u001b[0mtmp_batch_outputs\u001b[0m \u001b[1;33m=\u001b[0m \u001b[0mpredict_function\u001b[0m\u001b[1;33m(\u001b[0m\u001b[0miterator\u001b[0m\u001b[1;33m)\u001b[0m\u001b[1;33m\u001b[0m\u001b[1;33m\u001b[0m\u001b[0m\n\u001b[0m\u001b[0;32m   1600\u001b[0m             \u001b[1;32mif\u001b[0m \u001b[0mdata_handler\u001b[0m\u001b[1;33m.\u001b[0m\u001b[0mshould_sync\u001b[0m\u001b[1;33m:\u001b[0m\u001b[1;33m\u001b[0m\u001b[1;33m\u001b[0m\u001b[0m\n\u001b[0;32m   1601\u001b[0m               \u001b[0mcontext\u001b[0m\u001b[1;33m.\u001b[0m\u001b[0masync_wait\u001b[0m\u001b[1;33m(\u001b[0m\u001b[1;33m)\u001b[0m\u001b[1;33m\u001b[0m\u001b[1;33m\u001b[0m\u001b[0m\n",
      "\u001b[1;32mC:\\anaconda\\lib\\site-packages\\tensorflow\\python\\eager\\def_function.py\u001b[0m in \u001b[0;36m__call__\u001b[1;34m(self, *args, **kwds)\u001b[0m\n\u001b[0;32m    778\u001b[0m       \u001b[1;32melse\u001b[0m\u001b[1;33m:\u001b[0m\u001b[1;33m\u001b[0m\u001b[1;33m\u001b[0m\u001b[0m\n\u001b[0;32m    779\u001b[0m         \u001b[0mcompiler\u001b[0m \u001b[1;33m=\u001b[0m \u001b[1;34m\"nonXla\"\u001b[0m\u001b[1;33m\u001b[0m\u001b[1;33m\u001b[0m\u001b[0m\n\u001b[1;32m--> 780\u001b[1;33m         \u001b[0mresult\u001b[0m \u001b[1;33m=\u001b[0m \u001b[0mself\u001b[0m\u001b[1;33m.\u001b[0m\u001b[0m_call\u001b[0m\u001b[1;33m(\u001b[0m\u001b[1;33m*\u001b[0m\u001b[0margs\u001b[0m\u001b[1;33m,\u001b[0m \u001b[1;33m**\u001b[0m\u001b[0mkwds\u001b[0m\u001b[1;33m)\u001b[0m\u001b[1;33m\u001b[0m\u001b[1;33m\u001b[0m\u001b[0m\n\u001b[0m\u001b[0;32m    781\u001b[0m \u001b[1;33m\u001b[0m\u001b[0m\n\u001b[0;32m    782\u001b[0m       \u001b[0mnew_tracing_count\u001b[0m \u001b[1;33m=\u001b[0m \u001b[0mself\u001b[0m\u001b[1;33m.\u001b[0m\u001b[0m_get_tracing_count\u001b[0m\u001b[1;33m(\u001b[0m\u001b[1;33m)\u001b[0m\u001b[1;33m\u001b[0m\u001b[1;33m\u001b[0m\u001b[0m\n",
      "\u001b[1;32mC:\\anaconda\\lib\\site-packages\\tensorflow\\python\\eager\\def_function.py\u001b[0m in \u001b[0;36m_call\u001b[1;34m(self, *args, **kwds)\u001b[0m\n\u001b[0;32m    812\u001b[0m       \u001b[1;31m# In this case we have not created variables on the first call. So we can\u001b[0m\u001b[1;33m\u001b[0m\u001b[1;33m\u001b[0m\u001b[1;33m\u001b[0m\u001b[0m\n\u001b[0;32m    813\u001b[0m       \u001b[1;31m# run the first trace but we should fail if variables are created.\u001b[0m\u001b[1;33m\u001b[0m\u001b[1;33m\u001b[0m\u001b[1;33m\u001b[0m\u001b[0m\n\u001b[1;32m--> 814\u001b[1;33m       \u001b[0mresults\u001b[0m \u001b[1;33m=\u001b[0m \u001b[0mself\u001b[0m\u001b[1;33m.\u001b[0m\u001b[0m_stateful_fn\u001b[0m\u001b[1;33m(\u001b[0m\u001b[1;33m*\u001b[0m\u001b[0margs\u001b[0m\u001b[1;33m,\u001b[0m \u001b[1;33m**\u001b[0m\u001b[0mkwds\u001b[0m\u001b[1;33m)\u001b[0m\u001b[1;33m\u001b[0m\u001b[1;33m\u001b[0m\u001b[0m\n\u001b[0m\u001b[0;32m    815\u001b[0m       \u001b[1;32mif\u001b[0m \u001b[0mself\u001b[0m\u001b[1;33m.\u001b[0m\u001b[0m_created_variables\u001b[0m\u001b[1;33m:\u001b[0m\u001b[1;33m\u001b[0m\u001b[1;33m\u001b[0m\u001b[0m\n\u001b[0;32m    816\u001b[0m         raise ValueError(\"Creating variables on a non-first call to a function\"\n",
      "\u001b[1;32mC:\\anaconda\\lib\\site-packages\\tensorflow\\python\\eager\\function.py\u001b[0m in \u001b[0;36m__call__\u001b[1;34m(self, *args, **kwargs)\u001b[0m\n\u001b[0;32m   2827\u001b[0m     \u001b[1;32mwith\u001b[0m \u001b[0mself\u001b[0m\u001b[1;33m.\u001b[0m\u001b[0m_lock\u001b[0m\u001b[1;33m:\u001b[0m\u001b[1;33m\u001b[0m\u001b[1;33m\u001b[0m\u001b[0m\n\u001b[0;32m   2828\u001b[0m       \u001b[0mgraph_function\u001b[0m\u001b[1;33m,\u001b[0m \u001b[0margs\u001b[0m\u001b[1;33m,\u001b[0m \u001b[0mkwargs\u001b[0m \u001b[1;33m=\u001b[0m \u001b[0mself\u001b[0m\u001b[1;33m.\u001b[0m\u001b[0m_maybe_define_function\u001b[0m\u001b[1;33m(\u001b[0m\u001b[0margs\u001b[0m\u001b[1;33m,\u001b[0m \u001b[0mkwargs\u001b[0m\u001b[1;33m)\u001b[0m\u001b[1;33m\u001b[0m\u001b[1;33m\u001b[0m\u001b[0m\n\u001b[1;32m-> 2829\u001b[1;33m     \u001b[1;32mreturn\u001b[0m \u001b[0mgraph_function\u001b[0m\u001b[1;33m.\u001b[0m\u001b[0m_filtered_call\u001b[0m\u001b[1;33m(\u001b[0m\u001b[0margs\u001b[0m\u001b[1;33m,\u001b[0m \u001b[0mkwargs\u001b[0m\u001b[1;33m)\u001b[0m  \u001b[1;31m# pylint: disable=protected-access\u001b[0m\u001b[1;33m\u001b[0m\u001b[1;33m\u001b[0m\u001b[0m\n\u001b[0m\u001b[0;32m   2830\u001b[0m \u001b[1;33m\u001b[0m\u001b[0m\n\u001b[0;32m   2831\u001b[0m   \u001b[1;33m@\u001b[0m\u001b[0mproperty\u001b[0m\u001b[1;33m\u001b[0m\u001b[1;33m\u001b[0m\u001b[0m\n",
      "\u001b[1;32mC:\\anaconda\\lib\\site-packages\\tensorflow\\python\\eager\\function.py\u001b[0m in \u001b[0;36m_filtered_call\u001b[1;34m(self, args, kwargs, cancellation_manager)\u001b[0m\n\u001b[0;32m   1841\u001b[0m       \u001b[0;31m`\u001b[0m\u001b[0margs\u001b[0m\u001b[0;31m`\u001b[0m \u001b[1;32mand\u001b[0m\u001b[0;31m \u001b[0m\u001b[0;31m`\u001b[0m\u001b[0mkwargs\u001b[0m\u001b[0;31m`\u001b[0m\u001b[1;33m.\u001b[0m\u001b[1;33m\u001b[0m\u001b[1;33m\u001b[0m\u001b[0m\n\u001b[0;32m   1842\u001b[0m     \"\"\"\n\u001b[1;32m-> 1843\u001b[1;33m     return self._call_flat(\n\u001b[0m\u001b[0;32m   1844\u001b[0m         [t for t in nest.flatten((args, kwargs), expand_composites=True)\n\u001b[0;32m   1845\u001b[0m          if isinstance(t, (ops.Tensor,\n",
      "\u001b[1;32mC:\\anaconda\\lib\\site-packages\\tensorflow\\python\\eager\\function.py\u001b[0m in \u001b[0;36m_call_flat\u001b[1;34m(self, args, captured_inputs, cancellation_manager)\u001b[0m\n\u001b[0;32m   1921\u001b[0m         and executing_eagerly):\n\u001b[0;32m   1922\u001b[0m       \u001b[1;31m# No tape is watching; skip to running the function.\u001b[0m\u001b[1;33m\u001b[0m\u001b[1;33m\u001b[0m\u001b[1;33m\u001b[0m\u001b[0m\n\u001b[1;32m-> 1923\u001b[1;33m       return self._build_call_outputs(self._inference_function.call(\n\u001b[0m\u001b[0;32m   1924\u001b[0m           ctx, args, cancellation_manager=cancellation_manager))\n\u001b[0;32m   1925\u001b[0m     forward_backward = self._select_forward_and_backward_functions(\n",
      "\u001b[1;32mC:\\anaconda\\lib\\site-packages\\tensorflow\\python\\eager\\function.py\u001b[0m in \u001b[0;36mcall\u001b[1;34m(self, ctx, args, cancellation_manager)\u001b[0m\n\u001b[0;32m    543\u001b[0m       \u001b[1;32mwith\u001b[0m \u001b[0m_InterpolateFunctionError\u001b[0m\u001b[1;33m(\u001b[0m\u001b[0mself\u001b[0m\u001b[1;33m)\u001b[0m\u001b[1;33m:\u001b[0m\u001b[1;33m\u001b[0m\u001b[1;33m\u001b[0m\u001b[0m\n\u001b[0;32m    544\u001b[0m         \u001b[1;32mif\u001b[0m \u001b[0mcancellation_manager\u001b[0m \u001b[1;32mis\u001b[0m \u001b[1;32mNone\u001b[0m\u001b[1;33m:\u001b[0m\u001b[1;33m\u001b[0m\u001b[1;33m\u001b[0m\u001b[0m\n\u001b[1;32m--> 545\u001b[1;33m           outputs = execute.execute(\n\u001b[0m\u001b[0;32m    546\u001b[0m               \u001b[0mstr\u001b[0m\u001b[1;33m(\u001b[0m\u001b[0mself\u001b[0m\u001b[1;33m.\u001b[0m\u001b[0msignature\u001b[0m\u001b[1;33m.\u001b[0m\u001b[0mname\u001b[0m\u001b[1;33m)\u001b[0m\u001b[1;33m,\u001b[0m\u001b[1;33m\u001b[0m\u001b[1;33m\u001b[0m\u001b[0m\n\u001b[0;32m    547\u001b[0m               \u001b[0mnum_outputs\u001b[0m\u001b[1;33m=\u001b[0m\u001b[0mself\u001b[0m\u001b[1;33m.\u001b[0m\u001b[0m_num_outputs\u001b[0m\u001b[1;33m,\u001b[0m\u001b[1;33m\u001b[0m\u001b[1;33m\u001b[0m\u001b[0m\n",
      "\u001b[1;32mC:\\anaconda\\lib\\site-packages\\tensorflow\\python\\eager\\execute.py\u001b[0m in \u001b[0;36mquick_execute\u001b[1;34m(op_name, num_outputs, inputs, attrs, ctx, name)\u001b[0m\n\u001b[0;32m     57\u001b[0m   \u001b[1;32mtry\u001b[0m\u001b[1;33m:\u001b[0m\u001b[1;33m\u001b[0m\u001b[1;33m\u001b[0m\u001b[0m\n\u001b[0;32m     58\u001b[0m     \u001b[0mctx\u001b[0m\u001b[1;33m.\u001b[0m\u001b[0mensure_initialized\u001b[0m\u001b[1;33m(\u001b[0m\u001b[1;33m)\u001b[0m\u001b[1;33m\u001b[0m\u001b[1;33m\u001b[0m\u001b[0m\n\u001b[1;32m---> 59\u001b[1;33m     tensors = pywrap_tfe.TFE_Py_Execute(ctx._handle, device_name, op_name,\n\u001b[0m\u001b[0;32m     60\u001b[0m                                         inputs, attrs, num_outputs)\n\u001b[0;32m     61\u001b[0m   \u001b[1;32mexcept\u001b[0m \u001b[0mcore\u001b[0m\u001b[1;33m.\u001b[0m\u001b[0m_NotOkStatusException\u001b[0m \u001b[1;32mas\u001b[0m \u001b[0me\u001b[0m\u001b[1;33m:\u001b[0m\u001b[1;33m\u001b[0m\u001b[1;33m\u001b[0m\u001b[0m\n",
      "\u001b[1;31mUnknownError\u001b[0m:    Fail to find the dnn implementation.\n\t [[{{node CudnnRNN}}]]\n\t [[sequential/lstm/PartitionedCall]] [Op:__inference_predict_function_4420]\n\nFunction call stack:\npredict_function -> predict_function -> predict_function\n"
     ]
    }
   ],
   "source": [
    "loaded_model.predict([2,23,231])"
   ]
  },
  {
   "cell_type": "code",
   "execution_count": null,
   "metadata": {},
   "outputs": [],
   "source": []
  }
 ],
 "metadata": {
  "kernelspec": {
   "display_name": "Python 3",
   "language": "python",
   "name": "python3"
  },
  "language_info": {
   "codemirror_mode": {
    "name": "ipython",
    "version": 3
   },
   "file_extension": ".py",
   "mimetype": "text/x-python",
   "name": "python",
   "nbconvert_exporter": "python",
   "pygments_lexer": "ipython3",
   "version": "3.8.5"
  }
 },
 "nbformat": 4,
 "nbformat_minor": 4
}
